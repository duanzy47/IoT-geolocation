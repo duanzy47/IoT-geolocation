{
 "cells": [
  {
   "cell_type": "code",
   "execution_count": 2,
   "metadata": {},
   "outputs": [],
   "source": [
    "%matplotlib inline\n",
    "import numpy as np\n",
    "import pandas as pd\n",
    "import matplotlib.pyplot as plt\n",
    "from geopy.distance import vincenty"
   ]
  },
  {
   "cell_type": "code",
   "execution_count": 3,
   "metadata": {},
   "outputs": [],
   "source": [
    "# load train and test data\n",
    "df_mess_train = pd.read_csv('mess_train_list.csv')\n",
    "df_mess_test = pd.read_csv('mess_test_list.csv')\n",
    "pos_train = pd.read_csv('pos_train_list.csv')"
   ]
  },
  {
   "cell_type": "code",
   "execution_count": 4,
   "metadata": {},
   "outputs": [
    {
     "data": {
      "text/html": [
       "<div>\n",
       "<style scoped>\n",
       "    .dataframe tbody tr th:only-of-type {\n",
       "        vertical-align: middle;\n",
       "    }\n",
       "\n",
       "    .dataframe tbody tr th {\n",
       "        vertical-align: top;\n",
       "    }\n",
       "\n",
       "    .dataframe thead th {\n",
       "        text-align: right;\n",
       "    }\n",
       "</style>\n",
       "<table border=\"1\" class=\"dataframe\">\n",
       "  <thead>\n",
       "    <tr style=\"text-align: right;\">\n",
       "      <th></th>\n",
       "      <th>messid</th>\n",
       "      <th>bsid</th>\n",
       "      <th>did</th>\n",
       "      <th>nseq</th>\n",
       "      <th>rssi</th>\n",
       "      <th>time_ux</th>\n",
       "      <th>bs_lat</th>\n",
       "      <th>bs_lng</th>\n",
       "    </tr>\n",
       "  </thead>\n",
       "  <tbody>\n",
       "    <tr>\n",
       "      <th>0</th>\n",
       "      <td>573bf1d9864fce1a9af8c5c9</td>\n",
       "      <td>2841</td>\n",
       "      <td>473335.0</td>\n",
       "      <td>0.5</td>\n",
       "      <td>-121.5</td>\n",
       "      <td>1.463546e+12</td>\n",
       "      <td>39.617794</td>\n",
       "      <td>-104.954917</td>\n",
       "    </tr>\n",
       "    <tr>\n",
       "      <th>1</th>\n",
       "      <td>573bf1d9864fce1a9af8c5c9</td>\n",
       "      <td>3526</td>\n",
       "      <td>473335.0</td>\n",
       "      <td>2.0</td>\n",
       "      <td>-125.0</td>\n",
       "      <td>1.463546e+12</td>\n",
       "      <td>39.677251</td>\n",
       "      <td>-104.952721</td>\n",
       "    </tr>\n",
       "    <tr>\n",
       "      <th>2</th>\n",
       "      <td>573bf3533e952e19126b256a</td>\n",
       "      <td>2605</td>\n",
       "      <td>473335.0</td>\n",
       "      <td>1.0</td>\n",
       "      <td>-134.0</td>\n",
       "      <td>1.463547e+12</td>\n",
       "      <td>39.612745</td>\n",
       "      <td>-105.008827</td>\n",
       "    </tr>\n",
       "    <tr>\n",
       "      <th>3</th>\n",
       "      <td>573c0cd0f0fe6e735a699b93</td>\n",
       "      <td>2610</td>\n",
       "      <td>473953.0</td>\n",
       "      <td>2.0</td>\n",
       "      <td>-132.0</td>\n",
       "      <td>1.463553e+12</td>\n",
       "      <td>39.797969</td>\n",
       "      <td>-105.073460</td>\n",
       "    </tr>\n",
       "    <tr>\n",
       "      <th>4</th>\n",
       "      <td>573c0cd0f0fe6e735a699b93</td>\n",
       "      <td>3574</td>\n",
       "      <td>473953.0</td>\n",
       "      <td>1.0</td>\n",
       "      <td>-120.0</td>\n",
       "      <td>1.463553e+12</td>\n",
       "      <td>39.723151</td>\n",
       "      <td>-104.956216</td>\n",
       "    </tr>\n",
       "  </tbody>\n",
       "</table>\n",
       "</div>"
      ],
      "text/plain": [
       "                     messid  bsid       did  nseq   rssi       time_ux  \\\n",
       "0  573bf1d9864fce1a9af8c5c9  2841  473335.0   0.5 -121.5  1.463546e+12   \n",
       "1  573bf1d9864fce1a9af8c5c9  3526  473335.0   2.0 -125.0  1.463546e+12   \n",
       "2  573bf3533e952e19126b256a  2605  473335.0   1.0 -134.0  1.463547e+12   \n",
       "3  573c0cd0f0fe6e735a699b93  2610  473953.0   2.0 -132.0  1.463553e+12   \n",
       "4  573c0cd0f0fe6e735a699b93  3574  473953.0   1.0 -120.0  1.463553e+12   \n",
       "\n",
       "      bs_lat      bs_lng  \n",
       "0  39.617794 -104.954917  \n",
       "1  39.677251 -104.952721  \n",
       "2  39.612745 -105.008827  \n",
       "3  39.797969 -105.073460  \n",
       "4  39.723151 -104.956216  "
      ]
     },
     "execution_count": 4,
     "metadata": {},
     "output_type": "execute_result"
    }
   ],
   "source": [
    "df_mess_train.head()"
   ]
  },
  {
   "cell_type": "code",
   "execution_count": 5,
   "metadata": {},
   "outputs": [
    {
     "data": {
      "text/html": [
       "<div>\n",
       "<style scoped>\n",
       "    .dataframe tbody tr th:only-of-type {\n",
       "        vertical-align: middle;\n",
       "    }\n",
       "\n",
       "    .dataframe tbody tr th {\n",
       "        vertical-align: top;\n",
       "    }\n",
       "\n",
       "    .dataframe thead th {\n",
       "        text-align: right;\n",
       "    }\n",
       "</style>\n",
       "<table border=\"1\" class=\"dataframe\">\n",
       "  <thead>\n",
       "    <tr style=\"text-align: right;\">\n",
       "      <th></th>\n",
       "      <th>lat</th>\n",
       "      <th>lng</th>\n",
       "    </tr>\n",
       "  </thead>\n",
       "  <tbody>\n",
       "    <tr>\n",
       "      <th>0</th>\n",
       "      <td>39.606690</td>\n",
       "      <td>-104.958490</td>\n",
       "    </tr>\n",
       "    <tr>\n",
       "      <th>1</th>\n",
       "      <td>39.606690</td>\n",
       "      <td>-104.958490</td>\n",
       "    </tr>\n",
       "    <tr>\n",
       "      <th>2</th>\n",
       "      <td>39.637741</td>\n",
       "      <td>-104.958554</td>\n",
       "    </tr>\n",
       "    <tr>\n",
       "      <th>3</th>\n",
       "      <td>39.730417</td>\n",
       "      <td>-104.968940</td>\n",
       "    </tr>\n",
       "    <tr>\n",
       "      <th>4</th>\n",
       "      <td>39.730417</td>\n",
       "      <td>-104.968940</td>\n",
       "    </tr>\n",
       "  </tbody>\n",
       "</table>\n",
       "</div>"
      ],
      "text/plain": [
       "         lat         lng\n",
       "0  39.606690 -104.958490\n",
       "1  39.606690 -104.958490\n",
       "2  39.637741 -104.958554\n",
       "3  39.730417 -104.968940\n",
       "4  39.730417 -104.968940"
      ]
     },
     "execution_count": 5,
     "metadata": {},
     "output_type": "execute_result"
    }
   ],
   "source": [
    "pos_train.head()"
   ]
  },
  {
   "cell_type": "code",
   "execution_count": 6,
   "metadata": {},
   "outputs": [],
   "source": [
    "listOfBs = np.union1d(np.unique(df_mess_train['bsid']), np.unique(df_mess_test['bsid'])) # determine all Base stations that received at least 1 message"
   ]
  },
  {
   "cell_type": "code",
   "execution_count": 7,
   "metadata": {},
   "outputs": [
    {
     "data": {
      "text/plain": [
       "259"
      ]
     },
     "execution_count": 7,
     "metadata": {},
     "output_type": "execute_result"
    }
   ],
   "source": [
    "len(listOfBs)"
   ]
  },
  {
   "cell_type": "code",
   "execution_count": 8,
   "metadata": {},
   "outputs": [
    {
     "data": {
      "text/html": [
       "<div>\n",
       "<style scoped>\n",
       "    .dataframe tbody tr th:only-of-type {\n",
       "        vertical-align: middle;\n",
       "    }\n",
       "\n",
       "    .dataframe tbody tr th {\n",
       "        vertical-align: top;\n",
       "    }\n",
       "\n",
       "    .dataframe thead th {\n",
       "        text-align: right;\n",
       "    }\n",
       "</style>\n",
       "<table border=\"1\" class=\"dataframe\">\n",
       "  <thead>\n",
       "    <tr style=\"text-align: right;\">\n",
       "      <th></th>\n",
       "      <th>lat</th>\n",
       "      <th>lng</th>\n",
       "    </tr>\n",
       "  </thead>\n",
       "  <tbody>\n",
       "    <tr>\n",
       "      <th>count</th>\n",
       "      <td>39250.000000</td>\n",
       "      <td>39250.000000</td>\n",
       "    </tr>\n",
       "    <tr>\n",
       "      <th>mean</th>\n",
       "      <td>39.783333</td>\n",
       "      <td>-105.056343</td>\n",
       "    </tr>\n",
       "    <tr>\n",
       "      <th>std</th>\n",
       "      <td>0.206262</td>\n",
       "      <td>0.162954</td>\n",
       "    </tr>\n",
       "    <tr>\n",
       "      <th>min</th>\n",
       "      <td>35.770683</td>\n",
       "      <td>-107.630679</td>\n",
       "    </tr>\n",
       "    <tr>\n",
       "      <th>25%</th>\n",
       "      <td>39.708599</td>\n",
       "      <td>-105.060463</td>\n",
       "    </tr>\n",
       "    <tr>\n",
       "      <th>50%</th>\n",
       "      <td>39.776882</td>\n",
       "      <td>-105.039440</td>\n",
       "    </tr>\n",
       "    <tr>\n",
       "      <th>75%</th>\n",
       "      <td>39.805279</td>\n",
       "      <td>-105.018730</td>\n",
       "    </tr>\n",
       "    <tr>\n",
       "      <th>max</th>\n",
       "      <td>43.140387</td>\n",
       "      <td>-102.094289</td>\n",
       "    </tr>\n",
       "  </tbody>\n",
       "</table>\n",
       "</div>"
      ],
      "text/plain": [
       "                lat           lng\n",
       "count  39250.000000  39250.000000\n",
       "mean      39.783333   -105.056343\n",
       "std        0.206262      0.162954\n",
       "min       35.770683   -107.630679\n",
       "25%       39.708599   -105.060463\n",
       "50%       39.776882   -105.039440\n",
       "75%       39.805279   -105.018730\n",
       "max       43.140387   -102.094289"
      ]
     },
     "execution_count": 8,
     "metadata": {},
     "output_type": "execute_result"
    }
   ],
   "source": [
    "pos_train.describe()"
   ]
  },
  {
   "cell_type": "code",
   "execution_count": 9,
   "metadata": {},
   "outputs": [],
   "source": [
    "# Feature Matrix construction \n",
    "\n",
    "def feat_mat_const(df_mess_train, listOfBs):\n",
    "\n",
    "    df_mess_bs_group = df_mess_train.groupby(['messid'], as_index=False) # group data by message (messid)\n",
    "    nb_mess = len(np.unique(df_mess_train['messid']))\n",
    "    df_feat = pd.DataFrame(np.zeros((nb_mess,len(listOfBs))), columns = listOfBs) # feature matrix\n",
    "    idx = 0\n",
    "    id_list = [0] * nb_mess\n",
    "\n",
    "    for key, elmt in df_mess_bs_group:\n",
    "        df_mess_bs_group.get_group(key)\n",
    "        df_feat.loc[idx,df_mess_bs_group.get_group(key)['bsid']] = 1\n",
    "        id_list[idx] = key\n",
    "        idx = idx + 1\n",
    "    \n",
    "    return df_feat, id_list # add id value of each message for the correspondance to message  "
   ]
  },
  {
   "cell_type": "code",
   "execution_count": null,
   "metadata": {},
   "outputs": [],
   "source": []
  },
  {
   "cell_type": "code",
   "execution_count": 10,
   "metadata": {},
   "outputs": [],
   "source": [
    "# ground truth construction\n",
    "\n",
    "def ground_truth_const(df_mess_train, pos_train):\n",
    "\n",
    "    df_mess_pos = df_mess_train.copy()\n",
    "    df_mess_pos[['lat', 'lng']] = pos_train\n",
    "\n",
    "    ground_truth_lat = np.array(df_mess_pos.groupby(['messid']).mean()['lat'])\n",
    "    ground_truth_lng = np.array(df_mess_pos.groupby(['messid']).mean()['lng'])\n",
    "    \n",
    "    return ground_truth_lat, ground_truth_lng"
   ]
  },
  {
   "cell_type": "code",
   "execution_count": 11,
   "metadata": {},
   "outputs": [
    {
     "data": {
      "text/html": [
       "<div>\n",
       "<style scoped>\n",
       "    .dataframe tbody tr th:only-of-type {\n",
       "        vertical-align: middle;\n",
       "    }\n",
       "\n",
       "    .dataframe tbody tr th {\n",
       "        vertical-align: top;\n",
       "    }\n",
       "\n",
       "    .dataframe thead th {\n",
       "        text-align: right;\n",
       "    }\n",
       "</style>\n",
       "<table border=\"1\" class=\"dataframe\">\n",
       "  <thead>\n",
       "    <tr style=\"text-align: right;\">\n",
       "      <th></th>\n",
       "      <th>879</th>\n",
       "      <th>911</th>\n",
       "      <th>921</th>\n",
       "      <th>944</th>\n",
       "      <th>980</th>\n",
       "      <th>1012</th>\n",
       "      <th>1086</th>\n",
       "      <th>1092</th>\n",
       "      <th>1120</th>\n",
       "      <th>1131</th>\n",
       "      <th>...</th>\n",
       "      <th>9936</th>\n",
       "      <th>9941</th>\n",
       "      <th>9949</th>\n",
       "      <th>10134</th>\n",
       "      <th>10148</th>\n",
       "      <th>10151</th>\n",
       "      <th>10162</th>\n",
       "      <th>10999</th>\n",
       "      <th>11007</th>\n",
       "      <th>11951</th>\n",
       "    </tr>\n",
       "  </thead>\n",
       "  <tbody>\n",
       "    <tr>\n",
       "      <th>0</th>\n",
       "      <td>0.0</td>\n",
       "      <td>0.0</td>\n",
       "      <td>0.0</td>\n",
       "      <td>0.0</td>\n",
       "      <td>0.0</td>\n",
       "      <td>0.0</td>\n",
       "      <td>0.0</td>\n",
       "      <td>0.0</td>\n",
       "      <td>0.0</td>\n",
       "      <td>0.0</td>\n",
       "      <td>...</td>\n",
       "      <td>0.0</td>\n",
       "      <td>0.0</td>\n",
       "      <td>0.0</td>\n",
       "      <td>0.0</td>\n",
       "      <td>0.0</td>\n",
       "      <td>0.0</td>\n",
       "      <td>0.0</td>\n",
       "      <td>0.0</td>\n",
       "      <td>0.0</td>\n",
       "      <td>0.0</td>\n",
       "    </tr>\n",
       "    <tr>\n",
       "      <th>1</th>\n",
       "      <td>0.0</td>\n",
       "      <td>0.0</td>\n",
       "      <td>0.0</td>\n",
       "      <td>0.0</td>\n",
       "      <td>0.0</td>\n",
       "      <td>0.0</td>\n",
       "      <td>0.0</td>\n",
       "      <td>0.0</td>\n",
       "      <td>0.0</td>\n",
       "      <td>0.0</td>\n",
       "      <td>...</td>\n",
       "      <td>0.0</td>\n",
       "      <td>0.0</td>\n",
       "      <td>0.0</td>\n",
       "      <td>0.0</td>\n",
       "      <td>0.0</td>\n",
       "      <td>0.0</td>\n",
       "      <td>0.0</td>\n",
       "      <td>0.0</td>\n",
       "      <td>0.0</td>\n",
       "      <td>0.0</td>\n",
       "    </tr>\n",
       "    <tr>\n",
       "      <th>2</th>\n",
       "      <td>0.0</td>\n",
       "      <td>0.0</td>\n",
       "      <td>0.0</td>\n",
       "      <td>0.0</td>\n",
       "      <td>0.0</td>\n",
       "      <td>0.0</td>\n",
       "      <td>0.0</td>\n",
       "      <td>0.0</td>\n",
       "      <td>0.0</td>\n",
       "      <td>0.0</td>\n",
       "      <td>...</td>\n",
       "      <td>0.0</td>\n",
       "      <td>0.0</td>\n",
       "      <td>0.0</td>\n",
       "      <td>0.0</td>\n",
       "      <td>0.0</td>\n",
       "      <td>0.0</td>\n",
       "      <td>0.0</td>\n",
       "      <td>0.0</td>\n",
       "      <td>0.0</td>\n",
       "      <td>0.0</td>\n",
       "    </tr>\n",
       "    <tr>\n",
       "      <th>3</th>\n",
       "      <td>0.0</td>\n",
       "      <td>0.0</td>\n",
       "      <td>0.0</td>\n",
       "      <td>0.0</td>\n",
       "      <td>0.0</td>\n",
       "      <td>0.0</td>\n",
       "      <td>0.0</td>\n",
       "      <td>0.0</td>\n",
       "      <td>0.0</td>\n",
       "      <td>0.0</td>\n",
       "      <td>...</td>\n",
       "      <td>0.0</td>\n",
       "      <td>0.0</td>\n",
       "      <td>0.0</td>\n",
       "      <td>0.0</td>\n",
       "      <td>0.0</td>\n",
       "      <td>0.0</td>\n",
       "      <td>0.0</td>\n",
       "      <td>0.0</td>\n",
       "      <td>0.0</td>\n",
       "      <td>0.0</td>\n",
       "    </tr>\n",
       "    <tr>\n",
       "      <th>4</th>\n",
       "      <td>0.0</td>\n",
       "      <td>0.0</td>\n",
       "      <td>0.0</td>\n",
       "      <td>0.0</td>\n",
       "      <td>0.0</td>\n",
       "      <td>0.0</td>\n",
       "      <td>1.0</td>\n",
       "      <td>0.0</td>\n",
       "      <td>0.0</td>\n",
       "      <td>0.0</td>\n",
       "      <td>...</td>\n",
       "      <td>0.0</td>\n",
       "      <td>0.0</td>\n",
       "      <td>0.0</td>\n",
       "      <td>0.0</td>\n",
       "      <td>0.0</td>\n",
       "      <td>0.0</td>\n",
       "      <td>0.0</td>\n",
       "      <td>0.0</td>\n",
       "      <td>0.0</td>\n",
       "      <td>0.0</td>\n",
       "    </tr>\n",
       "  </tbody>\n",
       "</table>\n",
       "<p>5 rows × 259 columns</p>\n",
       "</div>"
      ],
      "text/plain": [
       "   879    911    921    944    980    1012   1086   1092   1120   1131   ...  \\\n",
       "0    0.0    0.0    0.0    0.0    0.0    0.0    0.0    0.0    0.0    0.0  ...   \n",
       "1    0.0    0.0    0.0    0.0    0.0    0.0    0.0    0.0    0.0    0.0  ...   \n",
       "2    0.0    0.0    0.0    0.0    0.0    0.0    0.0    0.0    0.0    0.0  ...   \n",
       "3    0.0    0.0    0.0    0.0    0.0    0.0    0.0    0.0    0.0    0.0  ...   \n",
       "4    0.0    0.0    0.0    0.0    0.0    0.0    1.0    0.0    0.0    0.0  ...   \n",
       "\n",
       "   9936   9941   9949   10134  10148  10151  10162  10999  11007  11951  \n",
       "0    0.0    0.0    0.0    0.0    0.0    0.0    0.0    0.0    0.0    0.0  \n",
       "1    0.0    0.0    0.0    0.0    0.0    0.0    0.0    0.0    0.0    0.0  \n",
       "2    0.0    0.0    0.0    0.0    0.0    0.0    0.0    0.0    0.0    0.0  \n",
       "3    0.0    0.0    0.0    0.0    0.0    0.0    0.0    0.0    0.0    0.0  \n",
       "4    0.0    0.0    0.0    0.0    0.0    0.0    0.0    0.0    0.0    0.0  \n",
       "\n",
       "[5 rows x 259 columns]"
      ]
     },
     "execution_count": 11,
     "metadata": {},
     "output_type": "execute_result"
    }
   ],
   "source": [
    "df_feat, id_list_train = feat_mat_const(df_mess_train, listOfBs)\n",
    "df_feat.head()"
   ]
  },
  {
   "cell_type": "code",
   "execution_count": 12,
   "metadata": {},
   "outputs": [
    {
     "data": {
      "text/plain": [
       "(6068,)"
      ]
     },
     "execution_count": 12,
     "metadata": {},
     "output_type": "execute_result"
    }
   ],
   "source": [
    "ground_truth_lat, ground_truth_lng = ground_truth_const(df_mess_train, pos_train)\n",
    "ground_truth_lat.shape"
   ]
  },
  {
   "cell_type": "code",
   "execution_count": null,
   "metadata": {},
   "outputs": [],
   "source": []
  },
  {
   "cell_type": "code",
   "execution_count": 13,
   "metadata": {},
   "outputs": [],
   "source": [
    "# Validation"
   ]
  },
  {
   "cell_type": "code",
   "execution_count": 14,
   "metadata": {},
   "outputs": [],
   "source": [
    "def regressor_and_predict(df_feat, ground_truth_lat, ground_truth_lng, df_test):\n",
    "    \n",
    "    # train regressor and make prediction in the train set\n",
    "    # Input: df_feat, ground_truth_lat, ground_truth_lng, df_test\n",
    "    # Output: y_pred_lat, y_pred_lng\n",
    "\n",
    "    from sklearn import linear_model\n",
    "\n",
    "    X_train = np.array(df_feat);\n",
    "    reg = linear_model.LinearRegression()\n",
    "\n",
    "    reg.fit(X_train, ground_truth_lat);\n",
    "    y_pred_lat = reg.predict(df_test) \n",
    "\n",
    "    reg.fit(X_train, ground_truth_lng);\n",
    "    y_pred_lng = reg.predict(df_test) \n",
    "    \n",
    "    return y_pred_lat, y_pred_lng\n"
   ]
  },
  {
   "cell_type": "code",
   "execution_count": null,
   "metadata": {},
   "outputs": [],
   "source": []
  },
  {
   "cell_type": "code",
   "execution_count": 15,
   "metadata": {},
   "outputs": [],
   "source": [
    "# Make regressor and prediction using the train set"
   ]
  },
  {
   "cell_type": "code",
   "execution_count": 16,
   "metadata": {},
   "outputs": [],
   "source": [
    "y_pred_lat, y_pred_lng = regressor_and_predict(df_feat, ground_truth_lat, ground_truth_lng, df_feat)"
   ]
  },
  {
   "cell_type": "code",
   "execution_count": null,
   "metadata": {},
   "outputs": [],
   "source": []
  },
  {
   "cell_type": "code",
   "execution_count": 17,
   "metadata": {},
   "outputs": [],
   "source": [
    "# Cross validation"
   ]
  },
  {
   "cell_type": "code",
   "execution_count": 18,
   "metadata": {},
   "outputs": [],
   "source": [
    "from sklearn.model_selection import cross_val_predict"
   ]
  },
  {
   "cell_type": "code",
   "execution_count": 19,
   "metadata": {},
   "outputs": [],
   "source": [
    "from sklearn import linear_model\n",
    "reg = linear_model.LinearRegression()\n",
    "y_pred_lng = cross_val_predict(reg, df_feat, ground_truth_lng, cv=10)\n",
    "y_pred_lat = cross_val_predict(reg, df_feat, ground_truth_lat, cv=10)"
   ]
  },
  {
   "cell_type": "code",
   "execution_count": null,
   "metadata": {},
   "outputs": [],
   "source": []
  },
  {
   "cell_type": "code",
   "execution_count": 20,
   "metadata": {},
   "outputs": [],
   "source": [
    "# Evaluate result"
   ]
  },
  {
   "cell_type": "code",
   "execution_count": 21,
   "metadata": {},
   "outputs": [],
   "source": [
    "def vincenty_vec(vec_coord):\n",
    "    vin_vec_dist = np.zeros(vec_coord.shape[0])\n",
    "    if vec_coord.shape[1] !=  4:\n",
    "        print('ERROR: Bad number of columns (shall be = 4)')\n",
    "    else:\n",
    "        vin_vec_dist = [vincenty(vec_coord[m,0:2],vec_coord[m,2:]).meters for m in range(vec_coord.shape[0])]\n",
    "    return vin_vec_dist"
   ]
  },
  {
   "cell_type": "code",
   "execution_count": 22,
   "metadata": {},
   "outputs": [],
   "source": [
    "# evaluate distance error for each predicted point\n",
    "def Eval_geoloc(y_train_lat , y_train_lng, y_pred_lat, y_pred_lng):\n",
    "    vec_coord = np.array([y_train_lat , y_train_lng, y_pred_lat, y_pred_lng])\n",
    "    err_vec = vincenty_vec(np.transpose(vec_coord))\n",
    "    \n",
    "    return err_vec"
   ]
  },
  {
   "cell_type": "code",
   "execution_count": 23,
   "metadata": {},
   "outputs": [],
   "source": [
    "err_vec = Eval_geoloc(ground_truth_lat , ground_truth_lng, y_pred_lat, y_pred_lng)"
   ]
  },
  {
   "cell_type": "code",
   "execution_count": 24,
   "metadata": {},
   "outputs": [],
   "source": [
    "# Plot error distribution"
   ]
  },
  {
   "cell_type": "code",
   "execution_count": 25,
   "metadata": {},
   "outputs": [
    {
     "data": {
      "text/plain": [
       "<matplotlib.legend.Legend at 0x120b766a0>"
      ]
     },
     "execution_count": 25,
     "metadata": {},
     "output_type": "execute_result"
    },
    {
     "data": {
      "image/png": "[encoded data removed]",
      "text/plain": [
       "<Figure size 432x288 with 1 Axes>"
      ]
     },
     "metadata": {
      "needs_background": "light"
     },
     "output_type": "display_data"
    }
   ],
   "source": [
    "values, base = np.histogram(err_vec, bins=50000)\n",
    "cumulative = np.cumsum(values) \n",
    "plt.figure();\n",
    "plt.plot(base[:-1]/1000, cumulative / np.float(np.sum(values))  * 100.0, c='blue')\n",
    "plt.grid(); plt.xlabel('Distance Error (km)'); plt.ylabel('Cum proba (%)'); plt.axis([0, 30, 0, 100]); \n",
    "plt.title('Error Cumulative Probability'); plt.legend( [\"Opt LLR\", \"LLR 95\", \"LLR 99\"])"
   ]
  },
  {
   "cell_type": "code",
   "execution_count": 26,
   "metadata": {},
   "outputs": [
    {
     "data": {
      "text/plain": [
       "8450.296877917019"
      ]
     },
     "execution_count": 26,
     "metadata": {},
     "output_type": "execute_result"
    }
   ],
   "source": [
    "# Error criterion\n",
    "\n",
    "np.percentile(err_vec, 80)"
   ]
  },
  {
   "cell_type": "code",
   "execution_count": null,
   "metadata": {},
   "outputs": [],
   "source": []
  },
  {
   "cell_type": "code",
   "execution_count": 27,
   "metadata": {},
   "outputs": [],
   "source": [
    "# Construct test prediction"
   ]
  },
  {
   "cell_type": "code",
   "execution_count": 28,
   "metadata": {},
   "outputs": [
    {
     "data": {
      "text/html": [
       "<div>\n",
       "<style scoped>\n",
       "    .dataframe tbody tr th:only-of-type {\n",
       "        vertical-align: middle;\n",
       "    }\n",
       "\n",
       "    .dataframe tbody tr th {\n",
       "        vertical-align: top;\n",
       "    }\n",
       "\n",
       "    .dataframe thead th {\n",
       "        text-align: right;\n",
       "    }\n",
       "</style>\n",
       "<table border=\"1\" class=\"dataframe\">\n",
       "  <thead>\n",
       "    <tr style=\"text-align: right;\">\n",
       "      <th></th>\n",
       "      <th>messid</th>\n",
       "      <th>bsid</th>\n",
       "      <th>did</th>\n",
       "      <th>nseq</th>\n",
       "      <th>rssi</th>\n",
       "      <th>time_ux</th>\n",
       "      <th>bs_lat</th>\n",
       "      <th>bs_lng</th>\n",
       "    </tr>\n",
       "  </thead>\n",
       "  <tbody>\n",
       "    <tr>\n",
       "      <th>0</th>\n",
       "      <td>573be2503e952e191262c351</td>\n",
       "      <td>3578</td>\n",
       "      <td>116539.0</td>\n",
       "      <td>2.0</td>\n",
       "      <td>-111.0</td>\n",
       "      <td>1.463542e+12</td>\n",
       "      <td>39.728651</td>\n",
       "      <td>-105.163032</td>\n",
       "    </tr>\n",
       "    <tr>\n",
       "      <th>1</th>\n",
       "      <td>573c05f83e952e1912758013</td>\n",
       "      <td>2617</td>\n",
       "      <td>472504.0</td>\n",
       "      <td>0.0</td>\n",
       "      <td>-136.0</td>\n",
       "      <td>1.463551e+12</td>\n",
       "      <td>39.779908</td>\n",
       "      <td>-105.062479</td>\n",
       "    </tr>\n",
       "    <tr>\n",
       "      <th>2</th>\n",
       "      <td>573c05f83e952e1912758013</td>\n",
       "      <td>3556</td>\n",
       "      <td>472504.0</td>\n",
       "      <td>0.0</td>\n",
       "      <td>-127.0</td>\n",
       "      <td>1.463551e+12</td>\n",
       "      <td>39.780658</td>\n",
       "      <td>-105.053676</td>\n",
       "    </tr>\n",
       "    <tr>\n",
       "      <th>3</th>\n",
       "      <td>573c05f83e952e1912758013</td>\n",
       "      <td>3578</td>\n",
       "      <td>472504.0</td>\n",
       "      <td>0.0</td>\n",
       "      <td>-129.0</td>\n",
       "      <td>1.463551e+12</td>\n",
       "      <td>39.728651</td>\n",
       "      <td>-105.163032</td>\n",
       "    </tr>\n",
       "    <tr>\n",
       "      <th>4</th>\n",
       "      <td>573c05f83e952e1912758013</td>\n",
       "      <td>4058</td>\n",
       "      <td>472504.0</td>\n",
       "      <td>0.0</td>\n",
       "      <td>-105.0</td>\n",
       "      <td>1.463551e+12</td>\n",
       "      <td>39.783211</td>\n",
       "      <td>-105.088747</td>\n",
       "    </tr>\n",
       "  </tbody>\n",
       "</table>\n",
       "</div>"
      ],
      "text/plain": [
       "                     messid  bsid       did  nseq   rssi       time_ux  \\\n",
       "0  573be2503e952e191262c351  3578  116539.0   2.0 -111.0  1.463542e+12   \n",
       "1  573c05f83e952e1912758013  2617  472504.0   0.0 -136.0  1.463551e+12   \n",
       "2  573c05f83e952e1912758013  3556  472504.0   0.0 -127.0  1.463551e+12   \n",
       "3  573c05f83e952e1912758013  3578  472504.0   0.0 -129.0  1.463551e+12   \n",
       "4  573c05f83e952e1912758013  4058  472504.0   0.0 -105.0  1.463551e+12   \n",
       "\n",
       "      bs_lat      bs_lng  \n",
       "0  39.728651 -105.163032  \n",
       "1  39.779908 -105.062479  \n",
       "2  39.780658 -105.053676  \n",
       "3  39.728651 -105.163032  \n",
       "4  39.783211 -105.088747  "
      ]
     },
     "execution_count": 28,
     "metadata": {},
     "output_type": "execute_result"
    }
   ],
   "source": [
    "df_mess_test.head()"
   ]
  },
  {
   "cell_type": "code",
   "execution_count": 29,
   "metadata": {},
   "outputs": [],
   "source": [
    "df_feat_test, id_list_test = feat_mat_const(df_mess_test, listOfBs)"
   ]
  },
  {
   "cell_type": "code",
   "execution_count": 30,
   "metadata": {},
   "outputs": [],
   "source": [
    "y_pred_lat, y_pred_lng = regressor_and_predict(df_feat, ground_truth_lat, ground_truth_lng, df_feat_test)"
   ]
  },
  {
   "cell_type": "code",
   "execution_count": 31,
   "metadata": {},
   "outputs": [],
   "source": [
    "test_res = pd.DataFrame(np.array([y_pred_lat, y_pred_lng]).T, columns = ['lat', 'lng'])\n",
    "test_res['messid'] = id_list_test"
   ]
  },
  {
   "cell_type": "code",
   "execution_count": 32,
   "metadata": {},
   "outputs": [],
   "source": [
    "test_res.to_csv('pred_pos_test_list.csv', index=False)"
   ]
  },
  {
   "cell_type": "code",
   "execution_count": 33,
   "metadata": {},
   "outputs": [
    {
     "data": {
      "text/html": [
       "<div>\n",
       "<style scoped>\n",
       "    .dataframe tbody tr th:only-of-type {\n",
       "        vertical-align: middle;\n",
       "    }\n",
       "\n",
       "    .dataframe tbody tr th {\n",
       "        vertical-align: top;\n",
       "    }\n",
       "\n",
       "    .dataframe thead th {\n",
       "        text-align: right;\n",
       "    }\n",
       "</style>\n",
       "<table border=\"1\" class=\"dataframe\">\n",
       "  <thead>\n",
       "    <tr style=\"text-align: right;\">\n",
       "      <th></th>\n",
       "      <th>lat</th>\n",
       "      <th>lng</th>\n",
       "      <th>messid</th>\n",
       "    </tr>\n",
       "  </thead>\n",
       "  <tbody>\n",
       "    <tr>\n",
       "      <th>0</th>\n",
       "      <td>39.772892</td>\n",
       "      <td>-105.049600</td>\n",
       "      <td>573be2503e952e191262c351</td>\n",
       "    </tr>\n",
       "    <tr>\n",
       "      <th>1</th>\n",
       "      <td>39.775000</td>\n",
       "      <td>-105.062433</td>\n",
       "      <td>573c05f83e952e1912758013</td>\n",
       "    </tr>\n",
       "    <tr>\n",
       "      <th>2</th>\n",
       "      <td>39.678693</td>\n",
       "      <td>-105.012785</td>\n",
       "      <td>573c0796f0fe6e735a66deb3</td>\n",
       "    </tr>\n",
       "    <tr>\n",
       "      <th>3</th>\n",
       "      <td>39.773777</td>\n",
       "      <td>-105.037473</td>\n",
       "      <td>573c08d2864fce1a9a0563bc</td>\n",
       "    </tr>\n",
       "    <tr>\n",
       "      <th>4</th>\n",
       "      <td>39.678693</td>\n",
       "      <td>-105.012785</td>\n",
       "      <td>573c08ff864fce1a9a0579b0</td>\n",
       "    </tr>\n",
       "  </tbody>\n",
       "</table>\n",
       "</div>"
      ],
      "text/plain": [
       "         lat         lng                    messid\n",
       "0  39.772892 -105.049600  573be2503e952e191262c351\n",
       "1  39.775000 -105.062433  573c05f83e952e1912758013\n",
       "2  39.678693 -105.012785  573c0796f0fe6e735a66deb3\n",
       "3  39.773777 -105.037473  573c08d2864fce1a9a0563bc\n",
       "4  39.678693 -105.012785  573c08ff864fce1a9a0579b0"
      ]
     },
     "execution_count": 33,
     "metadata": {},
     "output_type": "execute_result"
    }
   ],
   "source": [
    "test_res.head()"
   ]
  },
  {
   "cell_type": "code",
   "execution_count": null,
   "metadata": {},
   "outputs": [],
   "source": []
  }
 ],
 "metadata": {
  "kernelspec": {
   "display_name": "Python 3",
   "language": "python",
   "name": "python3"
  },
  "language_info": {
   "codemirror_mode": {
    "name": "ipython",
    "version": 3
   },
   "file_extension": ".py",
   "mimetype": "text/x-python",
   "name": "python",
   "nbconvert_exporter": "python",
   "pygments_lexer": "ipython3",
   "version": "3.6.10"
  }
 },
 "nbformat": 4,
 "nbformat_minor": 4
}
